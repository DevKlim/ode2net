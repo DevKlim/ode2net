version https://git-lfs.github.com/spec/v1
oid sha256:1f1437d9089fe96aea05f02861eecec3ba805b8f3faf68a03d66ae1d7ab3560b
size 272062
