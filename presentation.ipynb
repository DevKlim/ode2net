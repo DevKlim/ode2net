version https://git-lfs.github.com/spec/v1
oid sha256:2e27fdbc7ca7c8fca49b07896f09e6c3bbb1b4b93f15c2c2571b7ca29a3b19ec
size 70148713
